{
 "cells": [
  {
   "cell_type": "markdown",
   "id": "7bda4f78",
   "metadata": {},
   "source": [
    "# Student Attendance, Academics and Discipline\n",
    "\n",
    "In this Jupyter notebook, attendance data for students will be compiled that reflect the number of periods they were tardy as well as the number of periods they had an unexcused absence as well as the number of total absent periods. A total of discipline data logs is also calculated as well as the number of suspensions that they had. Finally, the academic data for students will be compiled by looking at their total academic GPA as well as the number of Ds and Fs that they are getting in classes currently."
   ]
  },
  {
   "cell_type": "code",
   "execution_count": null,
   "id": "131b9e76",
   "metadata": {},
   "outputs": [],
   "source": [
    "import numpy as np\n",
    "import pandas as pd"
   ]
  },
  {
   "cell_type": "markdown",
   "id": "cdd715b0",
   "metadata": {},
   "source": [
    "The Aeries SIS queries for the data that is needed is included as well as uploading them into the sheet."
   ]
  },
  {
   "cell_type": "code",
   "execution_count": null,
   "id": "c41620b5",
   "metadata": {},
   "outputs": [],
   "source": [
    "#LIST STU SC ID STU.NM GR AHD AHD.YR AHD.AL AHD.P0 AHD.P1 AHD.P2 AHD.P3 AHD.P4 AHD.P5 AHD.P6 AHD.P7 AHD.P8 AHD.P9 AHD.CD IF AHD.CD = C OR AHD.CD = T OR AHD.CD = Z\n",
    "\n",
    "tardies = pd.read_excel(r\"C:\\Users\\derek.castleman\\Desktop\\Tardies.xlsx\")\n",
    "\n",
    "#LIST STU SC ID STU.NM GR AHD AHD.YR AHD.AL AHD.P0 AHD.P1 AHD.P2 AHD.P3 AHD.P4 AHD.P5 AHD.P6 AHD.P7 AHD.P8 AHD.P9 AHD.CD\n",
    "\n",
    "absences = pd.read_excel(r\"C:\\Users\\derek.castleman\\Desktop\\Absences.xlsx\")\n",
    "\n",
    "# LIST STU ID DIS DIS.CD? DIS.DT \n",
    "discipline = pd.read_excel(r\"C:\\Users\\derek.castleman\\Desktop\\Discipline.xlsx\")\n",
    "\n",
    "# LIST STU ADS DSP ADS.SC STU.ID ADS.DT ADS.CD DSP.DS DSP.DD\n",
    "suspension = pd.read_excel(r\"C:\\Users\\derek.castleman\\Desktop\\Suspension.xlsx\")\n",
    "\n",
    "# LIST STU SC ID STU.NM GR TP\n",
    "\n",
    "gpa = pd.read_excel(r\"C:\\Users\\derek.castleman\\Desktop\\GPA.xlsx\")\n",
    "\n",
    "# LIST STU ID FEE FEE.AM FEE.DT FEE.PD FEE.CD?\n",
    "\n",
    "fees = pd.read_excel(r\"C:\\Users\\derek.castleman\\Desktop\\Fees.xlsx\")\n",
    "\n",
    "# LIST STU GBU GBK GBR STU.SC STU.ID STU.NM STU.GR GBK.PD GBK.NM GBR.CD GBU.CMK GBU.TG GBU.CSC\n",
    "\n",
    "gradebook = pd.read_excel(r\"C:\\Users\\derek.castleman\\Desktop\\Gradebook.xlsx\")"
   ]
  },
  {
   "cell_type": "markdown",
   "id": "c562a657",
   "metadata": {},
   "source": [
    "## Attendance\n",
    "\n",
    "Attendance will be looked at in three different ways. First, the number of periods that a student was tardy to class will be summed up. I will follow this by calculating the number of periods that each student missed due to an unexcused absence. It will conclude by calculating the total periods that a student missed whether or not they were excused or unexcused."
   ]
  },
  {
   "cell_type": "markdown",
   "id": "9f2a3772",
   "metadata": {},
   "source": [
    "### Tardies"
   ]
  },
  {
   "cell_type": "code",
   "execution_count": null,
   "id": "89e80b1f",
   "metadata": {},
   "outputs": [],
   "source": [
    "tardies"
   ]
  },
  {
   "cell_type": "code",
   "execution_count": null,
   "id": "8aebca23",
   "metadata": {},
   "outputs": [],
   "source": [
    "x = input('Input year of interest (2022-2023, 2023-2024, etc.)        ') # Inputting current year of interest\n",
    "x"
   ]
  },
  {
   "cell_type": "code",
   "execution_count": null,
   "id": "96b9aec9",
   "metadata": {},
   "outputs": [],
   "source": [
    "year_tardies = tardies[tardies['Year'] == x] #Selecting the current year out of the dataset\n",
    "year_tardies"
   ]
  },
  {
   "cell_type": "markdown",
   "id": "ca9ec897",
   "metadata": {},
   "source": [
    "T and Z oftentime appear as an all day code and a period code which would cause a doubling of the numbers for the students. so these have to be dealt with separately than normal class codes."
   ]
  },
  {
   "cell_type": "code",
   "execution_count": null,
   "id": "471574ed",
   "metadata": {},
   "outputs": [],
   "source": [
    "fix_tardies = year_tardies[(year_tardies['Code'] == 'T') | (year_tardies['Code'] == 'Z')] # Selecting T and Z\n",
    "fix_tardies"
   ]
  },
  {
   "cell_type": "code",
   "execution_count": null,
   "id": "59deac9e",
   "metadata": {},
   "outputs": [],
   "source": [
    "# Summing all of the columns\n",
    "fix_tardies = fix_tardies.assign(sum_column=fix_tardies['Per 0'] + fix_tardies['Per 1'] + fix_tardies['Per 2']\n",
    "                                 + fix_tardies['Per 3'] + fix_tardies['Per 4'] + fix_tardies['Per 5']\n",
    "                                 + fix_tardies['Per 6'] + fix_tardies['Per 7'] + fix_tardies['Per 8'] + fix_tardies['Per 9'])\n",
    "fix_tardies"
   ]
  },
  {
   "cell_type": "code",
   "execution_count": null,
   "id": "e6de25b8",
   "metadata": {},
   "outputs": [],
   "source": [
    "# Assigning sum column to all day\n",
    "fix_tardies['All'] = np.where(fix_tardies['All'] ==0, fix_tardies['sum_column'], fix_tardies['All'])\n",
    "fix_tardies"
   ]
  },
  {
   "cell_type": "code",
   "execution_count": null,
   "id": "358e1ac4",
   "metadata": {},
   "outputs": [],
   "source": [
    "# Turning the rest of the columns to zero\n",
    "columns_to_zero = ['Per 0', 'Per 1', 'Per 2', 'Per 3', 'Per 4', 'Per 5', 'Per 6', 'Per 7', 'Per 8', 'Per 9']\n",
    "fix_tardies[columns_to_zero] = 0\n",
    "fix_tardies"
   ]
  },
  {
   "cell_type": "code",
   "execution_count": null,
   "id": "384124bf",
   "metadata": {},
   "outputs": [],
   "source": [
    "# Dropping sum column\n",
    "fix_tardies = fix_tardies.drop(['sum_column'], axis=1)\n",
    "fix_tardies"
   ]
  },
  {
   "cell_type": "code",
   "execution_count": null,
   "id": "6784ea55",
   "metadata": {},
   "outputs": [],
   "source": [
    "# Looking at class tardies\n",
    "class_tardies = year_tardies[year_tardies['Code'] == 'C']\n",
    "class_tardies"
   ]
  },
  {
   "cell_type": "code",
   "execution_count": null,
   "id": "fb3962d2",
   "metadata": {},
   "outputs": [],
   "source": [
    "# Summing the class tardies\n",
    "class_tardies = class_tardies.assign(sum_column=class_tardies['Per 0'] + class_tardies['Per 1'] + class_tardies['Per 2']\n",
    "                                 + class_tardies['Per 3'] + class_tardies['Per 4'] + class_tardies['Per 5']\n",
    "                                 + class_tardies['Per 6'] + class_tardies['Per 7'] + class_tardies['Per 8']\n",
    "                                     + class_tardies['Per 9'])\n",
    "class_tardies"
   ]
  },
  {
   "cell_type": "code",
   "execution_count": null,
   "id": "2aba2e04",
   "metadata": {},
   "outputs": [],
   "source": [
    "# Assigning sum column to all day\n",
    "class_tardies['All'] = np.where(class_tardies['All'] >=0, class_tardies['sum_column'], class_tardies['All'])\n",
    "class_tardies"
   ]
  },
  {
   "cell_type": "code",
   "execution_count": null,
   "id": "34c1c527",
   "metadata": {},
   "outputs": [],
   "source": [
    "# Dropping sum column\n",
    "class_tardies = class_tardies.drop(['sum_column'], axis=1)\n",
    "class_tardies"
   ]
  },
  {
   "cell_type": "code",
   "execution_count": null,
   "id": "c86bbf25",
   "metadata": {},
   "outputs": [],
   "source": [
    "# Putting the two tardy data frames together\n",
    "merged = pd.concat([class_tardies, fix_tardies])\n",
    "merged"
   ]
  },
  {
   "cell_type": "code",
   "execution_count": null,
   "id": "0a791d34",
   "metadata": {},
   "outputs": [],
   "source": [
    "# Grouping by student ID and summing all days to get total tardies\n",
    "merged = merged.groupby(by=['Student ID'])['All'].sum().reset_index()\n",
    "merged"
   ]
  },
  {
   "cell_type": "code",
   "execution_count": null,
   "id": "04d1accc",
   "metadata": {},
   "outputs": [],
   "source": [
    "tardies = merged.rename(columns={'All': 'Period Tardies'}) # Renaming tardies column\n",
    "tardies"
   ]
  },
  {
   "cell_type": "markdown",
   "id": "c31abca5",
   "metadata": {},
   "source": [
    "### Absences"
   ]
  },
  {
   "cell_type": "code",
   "execution_count": null,
   "id": "d008d880",
   "metadata": {},
   "outputs": [],
   "source": [
    "absences"
   ]
  },
  {
   "cell_type": "code",
   "execution_count": null,
   "id": "cadc72b3",
   "metadata": {},
   "outputs": [],
   "source": [
    "absences = absences[absences['Year'] == x] # Selecting the year of interest\n",
    "absences"
   ]
  },
  {
   "cell_type": "code",
   "execution_count": null,
   "id": "c2d2d4db",
   "metadata": {},
   "outputs": [],
   "source": [
    "# Selecting the unexcused absent codes\n",
    "unexcused = absences[(absences['Code'] == 'A') | (absences['Code'] == 'Q') | \n",
    "                     (absences['Code'] == 'S') | (absences['Code'] == 'U')]\n",
    "unexcused"
   ]
  },
  {
   "cell_type": "code",
   "execution_count": null,
   "id": "8752302c",
   "metadata": {},
   "outputs": [],
   "source": [
    "# Setting All Day to zero to not overcount\n",
    "columns_to_zero = ['All']\n",
    "unexcused[columns_to_zero] = 0\n",
    "unexcused"
   ]
  },
  {
   "cell_type": "code",
   "execution_count": null,
   "id": "ef6df1a0",
   "metadata": {},
   "outputs": [],
   "source": [
    "# Summing all of the periods\n",
    "unexcused = unexcused.assign(unexcused_periods=unexcused['Per 0'] + unexcused['Per 1'] + unexcused['Per 2']\n",
    "                                 + unexcused['Per 3'] + unexcused['Per 4'] + unexcused['Per 5']\n",
    "                                 + unexcused['Per 6'] + unexcused['Per 7'] + unexcused['Per 8']\n",
    "                                     + unexcused['Per 9'])\n",
    "unexcused"
   ]
  },
  {
   "cell_type": "code",
   "execution_count": null,
   "id": "fa2fc9c1",
   "metadata": {},
   "outputs": [],
   "source": [
    "# Grouping by student ID and summing the totals category\n",
    "unexcused = unexcused.groupby(by=['Student ID'])['unexcused_periods'].sum().reset_index()\n",
    "unexcused"
   ]
  },
  {
   "cell_type": "code",
   "execution_count": null,
   "id": "f00df608",
   "metadata": {},
   "outputs": [],
   "source": [
    "# Renaming the column\n",
    "unexcused = unexcused.rename(columns={'unexcused_periods': 'Unexcused Absent Periods'})\n",
    "unexcused"
   ]
  },
  {
   "cell_type": "code",
   "execution_count": null,
   "id": "5b15adf6",
   "metadata": {},
   "outputs": [],
   "source": [
    "# Selecting all of the absent codes\n",
    "totalabsent = absences[(absences['Code'] == 'A') | (absences['Code'] == 'Q') | \n",
    "                     (absences['Code'] == 'S') | (absences['Code'] == 'U') | (absences['Code'] == 'K') |\n",
    "                      (absences['Code'] == 'I') | (absences['Code'] == 'M') | (absences['Code'] == 'X')]\n",
    "totalabsent"
   ]
  },
  {
   "cell_type": "code",
   "execution_count": null,
   "id": "a38a2987",
   "metadata": {},
   "outputs": [],
   "source": [
    "# Summing the columns\n",
    "columns_to_zero = ['All']\n",
    "totalabsent[columns_to_zero] = 0\n",
    "totalabsent"
   ]
  },
  {
   "cell_type": "code",
   "execution_count": null,
   "id": "01506d64",
   "metadata": {},
   "outputs": [],
   "source": [
    "# Summing all of the periods\n",
    "totalabsent = totalabsent.assign(absent_periods=totalabsent['Per 0'] + totalabsent['Per 1'] + totalabsent['Per 2']\n",
    "                                 + totalabsent['Per 3'] + totalabsent['Per 4'] + totalabsent['Per 5']\n",
    "                                 + totalabsent['Per 6'] + totalabsent['Per 7'] + totalabsent['Per 8']\n",
    "                                     + totalabsent['Per 9'])\n",
    "totalabsent"
   ]
  },
  {
   "cell_type": "code",
   "execution_count": null,
   "id": "5d1de82e",
   "metadata": {},
   "outputs": [],
   "source": [
    "# Grouping by student ID and summing the totals\n",
    "totalabsent = totalabsent.groupby(by=['Student ID'])['absent_periods'].sum().reset_index()\n",
    "totalabsent"
   ]
  },
  {
   "cell_type": "code",
   "execution_count": null,
   "id": "6902dbc1",
   "metadata": {},
   "outputs": [],
   "source": [
    "totalabsent = totalabsent.rename(columns={'absent_periods': 'Total Absent Periods'})\n",
    "totalabsent"
   ]
  },
  {
   "cell_type": "code",
   "execution_count": null,
   "id": "f2c98e64",
   "metadata": {},
   "outputs": [],
   "source": [
    "# Merging period tardies with unexcused absences\n",
    "attendance = pd.merge(tardies, unexcused, how='outer', on='Student ID')\n",
    "attendance"
   ]
  },
  {
   "cell_type": "code",
   "execution_count": null,
   "id": "d402d26c",
   "metadata": {},
   "outputs": [],
   "source": [
    "# Merging with total absent\n",
    "attendance = pd.merge(attendance, totalabsent, how='outer', on='Student ID')\n",
    "attendance"
   ]
  },
  {
   "cell_type": "code",
   "execution_count": null,
   "id": "099325aa",
   "metadata": {},
   "outputs": [],
   "source": [
    "# Filling in na columns with zeros\n",
    "attendance = attendance.fillna(0)\n",
    "attendance"
   ]
  },
  {
   "cell_type": "markdown",
   "id": "8f5a8041",
   "metadata": {},
   "source": [
    "## Discipline\n",
    "\n",
    "A date will be input that will be selected for when discipline should be looked at beyond. A number of one will be assigned to each discipline log and then it will be summed for each of the students. The same thing will be done with the suspensions for a student."
   ]
  },
  {
   "cell_type": "code",
   "execution_count": null,
   "id": "579122b8",
   "metadata": {},
   "outputs": [],
   "source": [
    "discipline"
   ]
  },
  {
   "cell_type": "code",
   "execution_count": null,
   "id": "a0a34c3b",
   "metadata": {},
   "outputs": [],
   "source": [
    "discipline['Date']= pd.to_datetime(discipline['Date']) # Changing to proper date format\n",
    "discipline"
   ]
  },
  {
   "cell_type": "code",
   "execution_count": null,
   "id": "4f022eb0",
   "metadata": {},
   "outputs": [],
   "source": [
    "y = input('Input first day of school year mm/dd/yyyy        ') # Selecting start date for discipline\n",
    "y"
   ]
  },
  {
   "cell_type": "code",
   "execution_count": null,
   "id": "c9b43f53",
   "metadata": {},
   "outputs": [],
   "source": [
    "y = pd.to_datetime(y) # Changing start date into proper format\n",
    "y"
   ]
  },
  {
   "cell_type": "code",
   "execution_count": null,
   "id": "cd4bd8dc",
   "metadata": {},
   "outputs": [],
   "source": [
    "discipline = discipline[discipline['Date'] > y] # Selecting discipline beyond start date\n",
    "discipline"
   ]
  },
  {
   "cell_type": "code",
   "execution_count": null,
   "id": "6f78b1f6",
   "metadata": {},
   "outputs": [],
   "source": [
    "discipline['Discipline Logs'] = 1 # Giving a value of one for each discipline\n",
    "discipline"
   ]
  },
  {
   "cell_type": "code",
   "execution_count": null,
   "id": "07f5d695",
   "metadata": {},
   "outputs": [],
   "source": [
    "# Summing up the discipline for each student\n",
    "discipline = discipline.groupby(by=['Student ID'])['Discipline Logs'].sum().reset_index()\n",
    "discipline"
   ]
  },
  {
   "cell_type": "code",
   "execution_count": null,
   "id": "1aecd511",
   "metadata": {},
   "outputs": [],
   "source": [
    "suspension"
   ]
  },
  {
   "cell_type": "code",
   "execution_count": null,
   "id": "6e3dadfc",
   "metadata": {},
   "outputs": [],
   "source": [
    "suspension = suspension[suspension['Disposition'] == 'SUS-13'] # Selecting suspensions\n",
    "suspension"
   ]
  },
  {
   "cell_type": "code",
   "execution_count": null,
   "id": "2525f5f5",
   "metadata": {},
   "outputs": [],
   "source": [
    "# Changing date into proper format\n",
    "suspension['Disposition date']= pd.to_datetime(suspension['Disposition date'])\n",
    "suspension"
   ]
  },
  {
   "cell_type": "code",
   "execution_count": null,
   "id": "26bd7df3",
   "metadata": {},
   "outputs": [],
   "source": [
    "# Selecting suspensions beyond the start date\n",
    "suspension = suspension[suspension['Disposition date'] > y]\n",
    "suspension"
   ]
  },
  {
   "cell_type": "code",
   "execution_count": null,
   "id": "24aeec27",
   "metadata": {},
   "outputs": [],
   "source": [
    "suspension['Suspensions'] = 1 # Giving a value of 1 for each suspension\n",
    "suspension"
   ]
  },
  {
   "cell_type": "code",
   "execution_count": null,
   "id": "92a4a8f3",
   "metadata": {},
   "outputs": [],
   "source": [
    "# Summing up the suspensions for each student\n",
    "suspension = suspension.groupby(by=['Student ID'])['Suspensions'].sum().reset_index()\n",
    "suspension"
   ]
  },
  {
   "cell_type": "code",
   "execution_count": null,
   "id": "af1fde6d",
   "metadata": {},
   "outputs": [],
   "source": [
    "# Merging the two behavior columns together\n",
    "behavior = pd.merge(discipline, suspension, how='outer', on='Student ID')\n",
    "behavior"
   ]
  },
  {
   "cell_type": "code",
   "execution_count": null,
   "id": "a317f63d",
   "metadata": {},
   "outputs": [],
   "source": [
    "behavior = behavior.fillna(0) # Filling in the missing values with zero\n",
    "behavior"
   ]
  },
  {
   "cell_type": "markdown",
   "id": "f0a7ed97",
   "metadata": {},
   "source": [
    "## Academics\n",
    "\n",
    "The total academic GPA for students will be added to the attendance data along with any outstanding fees that they might have. The outstanding fees are calculated by the total they have been charged with the total that has been paid minused from it. The grades for the current term will be selected and any grade under a C- will be chosen with a sum for each student for how many Ds and Fs they have given."
   ]
  },
  {
   "cell_type": "code",
   "execution_count": null,
   "id": "6fd952d4",
   "metadata": {},
   "outputs": [],
   "source": [
    "gpa"
   ]
  },
  {
   "cell_type": "code",
   "execution_count": null,
   "id": "a4a49c2d",
   "metadata": {},
   "outputs": [],
   "source": [
    "# Adds the total GPA of each student with their attendance data\n",
    "merge_one = pd.merge(gpa, attendance, how='left', on='Student ID')\n",
    "merge_one"
   ]
  },
  {
   "cell_type": "code",
   "execution_count": null,
   "id": "b3cbd737",
   "metadata": {},
   "outputs": [],
   "source": [
    "final = pd.merge(merge_one, behavior, how='left', on='Student ID')\n",
    "final"
   ]
  },
  {
   "cell_type": "code",
   "execution_count": null,
   "id": "e149fb9f",
   "metadata": {},
   "outputs": [],
   "source": [
    "final = final.fillna(0)\n",
    "final"
   ]
  },
  {
   "cell_type": "code",
   "execution_count": null,
   "id": "bf4a96d0",
   "metadata": {},
   "outputs": [],
   "source": [
    "fees"
   ]
  },
  {
   "cell_type": "code",
   "execution_count": null,
   "id": "912cc11b",
   "metadata": {},
   "outputs": [],
   "source": [
    "# Debts are calculated by subtracting amount paid from amount charged\n",
    "fees['Fees/Debts'] = fees['Amount Chgd'] - fees['Amount Pd']\n",
    "fees"
   ]
  },
  {
   "cell_type": "code",
   "execution_count": null,
   "id": "2a557fa8",
   "metadata": {},
   "outputs": [],
   "source": [
    "fees = fees[['Student ID', 'Fees/Debts']]\n",
    "fees"
   ]
  },
  {
   "cell_type": "code",
   "execution_count": null,
   "id": "ddff150a",
   "metadata": {},
   "outputs": [],
   "source": [
    "gradebook"
   ]
  },
  {
   "cell_type": "code",
   "execution_count": null,
   "id": "253507d6",
   "metadata": {},
   "outputs": [],
   "source": [
    "z = input('Input term of interest (1, 2 etc.)        ') # Current term for grades is unput\n",
    "z"
   ]
  },
  {
   "cell_type": "code",
   "execution_count": null,
   "id": "ff8b10d4",
   "metadata": {},
   "outputs": [],
   "source": [
    "gradebook = gradebook[gradebook['Term'] == z] # Current term is selected from gradebook\n",
    "gradebook"
   ]
  },
  {
   "cell_type": "code",
   "execution_count": null,
   "id": "9e0c2802",
   "metadata": {},
   "outputs": [],
   "source": [
    "# Failing grades are chosen\n",
    "failing = gradebook[(gradebook['OverallMark'] == 'D+') | (gradebook['OverallMark'] == 'D') | \n",
    "                    (gradebook['OverallMark'] == 'D-') | (gradebook['OverallMark'] == 'F')]\n",
    "failing"
   ]
  },
  {
   "cell_type": "code",
   "execution_count": null,
   "id": "19df5976",
   "metadata": {},
   "outputs": [],
   "source": [
    "# A value of 1 is given to each course that has been filtered\n",
    "failing['D/F'] = 1\n",
    "failing"
   ]
  },
  {
   "cell_type": "code",
   "execution_count": null,
   "id": "f310de8e",
   "metadata": {},
   "outputs": [],
   "source": [
    "# Total number is summed up\n",
    "failing = failing.groupby(by=['Student ID'])['D/F'].sum().reset_index()\n",
    "failing"
   ]
  },
  {
   "cell_type": "code",
   "execution_count": null,
   "id": "94b02643",
   "metadata": {},
   "outputs": [],
   "source": [
    "final"
   ]
  },
  {
   "cell_type": "code",
   "execution_count": null,
   "id": "01170dc5",
   "metadata": {},
   "outputs": [],
   "source": [
    "# Failing grades are added to all other merges\n",
    "final = pd.merge(final, failing, on='Student ID', how='left')\n",
    "final"
   ]
  },
  {
   "cell_type": "code",
   "execution_count": null,
   "id": "e0801930",
   "metadata": {},
   "outputs": [],
   "source": [
    "# Fees are added to the end\n",
    "final = pd.merge(final, fees, on='Student ID', how='left')\n",
    "final"
   ]
  },
  {
   "cell_type": "code",
   "execution_count": null,
   "id": "a3c54f8d",
   "metadata": {},
   "outputs": [],
   "source": [
    "# Any remaining nan are filled in with 0\n",
    "final = final.fillna(0)\n",
    "final"
   ]
  },
  {
   "cell_type": "code",
   "execution_count": null,
   "id": "a80fc109",
   "metadata": {},
   "outputs": [],
   "source": [
    "import base64\n",
    "from IPython.display import HTML\n",
    "\n",
    "def create_download_link( df, title = \"Attendance and Discipline\", filename = \"Attendance and Discipline\"):\n",
    "    csv = df.to_csv(index=False)\n",
    "    b64 = base64.b64encode(csv.encode())\n",
    "    payload = b64.decode()\n",
    "    html = '<a download=\"{filename}\" href=\"data:text/csv;base64,{payload}\" target=\"_blank\">{title}</a>'\n",
    "    html = html.format(payload=payload,title=title,filename=filename)\n",
    "    return HTML(html)\n",
    "\n",
    "create_download_link(final)"
   ]
  },
  {
   "cell_type": "code",
   "execution_count": null,
   "id": "cd017fe2",
   "metadata": {},
   "outputs": [],
   "source": []
  }
 ],
 "metadata": {
  "kernelspec": {
   "display_name": "Python 3 (ipykernel)",
   "language": "python",
   "name": "python3"
  },
  "language_info": {
   "codemirror_mode": {
    "name": "ipython",
    "version": 3
   },
   "file_extension": ".py",
   "mimetype": "text/x-python",
   "name": "python",
   "nbconvert_exporter": "python",
   "pygments_lexer": "ipython3",
   "version": "3.9.7"
  }
 },
 "nbformat": 4,
 "nbformat_minor": 5
}
