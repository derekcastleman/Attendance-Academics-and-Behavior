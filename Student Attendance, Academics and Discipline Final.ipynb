{
 "cells": [
  {
   "cell_type": "markdown",
   "id": "7bda4f78",
   "metadata": {},
   "source": [
    "# Student Attendance, Academics and Discipline Final\n",
    "\n",
    "In this Jupyter notebook, attendance data for students will be compiled that reflect the number of periods they were tardy as well as the number of periods they had an unexcused absence as well as the number of total absent periods. A total of discipline data logs is also calculated as well as the number of suspensions that they had. Finally, the academic data for students will be compiled by looking at their total academic GPA as well as the number of Ds and Fs that they are getting in classes currently."
   ]
  },
  {
   "cell_type": "code",
   "execution_count": 1,
   "id": "131b9e76",
   "metadata": {},
   "outputs": [],
   "source": [
    "import numpy as np\n",
    "import pandas as pd"
   ]
  },
  {
   "cell_type": "markdown",
   "id": "cdd715b0",
   "metadata": {},
   "source": [
    "The Aeries SIS queries for the data that is needed is included as well as uploading them into the sheet."
   ]
  },
  {
   "cell_type": "code",
   "execution_count": 2,
   "id": "c41620b5",
   "metadata": {},
   "outputs": [
    {
     "name": "stderr",
     "output_type": "stream",
     "text": [
      "C:\\Users\\derek.castleman\\Anaconda3\\lib\\site-packages\\openpyxl\\styles\\stylesheet.py:226: UserWarning: Workbook contains no default style, apply openpyxl's default\n",
      "  warn(\"Workbook contains no default style, apply openpyxl's default\")\n"
     ]
    },
    {
     "ename": "KeyboardInterrupt",
     "evalue": "",
     "output_type": "error",
     "traceback": [
      "\u001b[1;31m---------------------------------------------------------------------------\u001b[0m",
      "\u001b[1;31mKeyboardInterrupt\u001b[0m                         Traceback (most recent call last)",
      "\u001b[1;32mC:\\Users\\DEREK~1.CAS\\AppData\\Local\\Temp/ipykernel_12988/1008648112.py\u001b[0m in \u001b[0;36m<module>\u001b[1;34m\u001b[0m\n\u001b[0;32m     15\u001b[0m \u001b[1;33m\u001b[0m\u001b[0m\n\u001b[0;32m     16\u001b[0m \u001b[1;31m# LIST STU GBU GBK GBR STU.SC STU.ID STU.NM STU.GR GBK.PD GBK.NM GBR.CD GBU.CMK GBU.TG GBU.CSC\u001b[0m\u001b[1;33m\u001b[0m\u001b[1;33m\u001b[0m\u001b[0m\n\u001b[1;32m---> 17\u001b[1;33m \u001b[0mgradebook\u001b[0m \u001b[1;33m=\u001b[0m \u001b[0mpd\u001b[0m\u001b[1;33m.\u001b[0m\u001b[0mread_excel\u001b[0m\u001b[1;33m(\u001b[0m\u001b[1;34mr\"C:\\Users\\derek.castleman\\Desktop\\Gradebook.xlsx\"\u001b[0m\u001b[1;33m)\u001b[0m\u001b[1;33m\u001b[0m\u001b[1;33m\u001b[0m\u001b[0m\n\u001b[0m\u001b[0;32m     18\u001b[0m \u001b[1;33m\u001b[0m\u001b[0m\n\u001b[0;32m     19\u001b[0m \u001b[1;31m# LIST STU ID ACT ACT.CD? ACT.DT ACT.HR\u001b[0m\u001b[1;33m\u001b[0m\u001b[1;33m\u001b[0m\u001b[0m\n",
      "\u001b[1;32m~\\Anaconda3\\lib\\site-packages\\pandas\\util\\_decorators.py\u001b[0m in \u001b[0;36mwrapper\u001b[1;34m(*args, **kwargs)\u001b[0m\n\u001b[0;32m    309\u001b[0m                     \u001b[0mstacklevel\u001b[0m\u001b[1;33m=\u001b[0m\u001b[0mstacklevel\u001b[0m\u001b[1;33m,\u001b[0m\u001b[1;33m\u001b[0m\u001b[1;33m\u001b[0m\u001b[0m\n\u001b[0;32m    310\u001b[0m                 )\n\u001b[1;32m--> 311\u001b[1;33m             \u001b[1;32mreturn\u001b[0m \u001b[0mfunc\u001b[0m\u001b[1;33m(\u001b[0m\u001b[1;33m*\u001b[0m\u001b[0margs\u001b[0m\u001b[1;33m,\u001b[0m \u001b[1;33m**\u001b[0m\u001b[0mkwargs\u001b[0m\u001b[1;33m)\u001b[0m\u001b[1;33m\u001b[0m\u001b[1;33m\u001b[0m\u001b[0m\n\u001b[0m\u001b[0;32m    312\u001b[0m \u001b[1;33m\u001b[0m\u001b[0m\n\u001b[0;32m    313\u001b[0m         \u001b[1;32mreturn\u001b[0m \u001b[0mwrapper\u001b[0m\u001b[1;33m\u001b[0m\u001b[1;33m\u001b[0m\u001b[0m\n",
      "\u001b[1;32m~\\Anaconda3\\lib\\site-packages\\pandas\\io\\excel\\_base.py\u001b[0m in \u001b[0;36mread_excel\u001b[1;34m(io, sheet_name, header, names, index_col, usecols, squeeze, dtype, engine, converters, true_values, false_values, skiprows, nrows, na_values, keep_default_na, na_filter, verbose, parse_dates, date_parser, thousands, comment, skipfooter, convert_float, mangle_dupe_cols, storage_options)\u001b[0m\n\u001b[0;32m    370\u001b[0m \u001b[1;33m\u001b[0m\u001b[0m\n\u001b[0;32m    371\u001b[0m     \u001b[1;32mtry\u001b[0m\u001b[1;33m:\u001b[0m\u001b[1;33m\u001b[0m\u001b[1;33m\u001b[0m\u001b[0m\n\u001b[1;32m--> 372\u001b[1;33m         data = io.parse(\n\u001b[0m\u001b[0;32m    373\u001b[0m             \u001b[0msheet_name\u001b[0m\u001b[1;33m=\u001b[0m\u001b[0msheet_name\u001b[0m\u001b[1;33m,\u001b[0m\u001b[1;33m\u001b[0m\u001b[1;33m\u001b[0m\u001b[0m\n\u001b[0;32m    374\u001b[0m             \u001b[0mheader\u001b[0m\u001b[1;33m=\u001b[0m\u001b[0mheader\u001b[0m\u001b[1;33m,\u001b[0m\u001b[1;33m\u001b[0m\u001b[1;33m\u001b[0m\u001b[0m\n",
      "\u001b[1;32m~\\Anaconda3\\lib\\site-packages\\pandas\\io\\excel\\_base.py\u001b[0m in \u001b[0;36mparse\u001b[1;34m(self, sheet_name, header, names, index_col, usecols, squeeze, converters, true_values, false_values, skiprows, nrows, na_values, parse_dates, date_parser, thousands, comment, skipfooter, convert_float, mangle_dupe_cols, **kwds)\u001b[0m\n\u001b[0;32m   1270\u001b[0m             \u001b[0mDataFrame\u001b[0m \u001b[1;32mfrom\u001b[0m \u001b[0mthe\u001b[0m \u001b[0mpassed\u001b[0m \u001b[1;32min\u001b[0m \u001b[0mExcel\u001b[0m \u001b[0mfile\u001b[0m\u001b[1;33m.\u001b[0m\u001b[1;33m\u001b[0m\u001b[1;33m\u001b[0m\u001b[0m\n\u001b[0;32m   1271\u001b[0m         \"\"\"\n\u001b[1;32m-> 1272\u001b[1;33m         return self._reader.parse(\n\u001b[0m\u001b[0;32m   1273\u001b[0m             \u001b[0msheet_name\u001b[0m\u001b[1;33m=\u001b[0m\u001b[0msheet_name\u001b[0m\u001b[1;33m,\u001b[0m\u001b[1;33m\u001b[0m\u001b[1;33m\u001b[0m\u001b[0m\n\u001b[0;32m   1274\u001b[0m             \u001b[0mheader\u001b[0m\u001b[1;33m=\u001b[0m\u001b[0mheader\u001b[0m\u001b[1;33m,\u001b[0m\u001b[1;33m\u001b[0m\u001b[1;33m\u001b[0m\u001b[0m\n",
      "\u001b[1;32m~\\Anaconda3\\lib\\site-packages\\pandas\\io\\excel\\_base.py\u001b[0m in \u001b[0;36mparse\u001b[1;34m(self, sheet_name, header, names, index_col, usecols, squeeze, dtype, true_values, false_values, skiprows, nrows, na_values, verbose, parse_dates, date_parser, thousands, comment, skipfooter, convert_float, mangle_dupe_cols, **kwds)\u001b[0m\n\u001b[0;32m    537\u001b[0m                 \u001b[0msheet\u001b[0m \u001b[1;33m=\u001b[0m \u001b[0mself\u001b[0m\u001b[1;33m.\u001b[0m\u001b[0mget_sheet_by_index\u001b[0m\u001b[1;33m(\u001b[0m\u001b[0masheetname\u001b[0m\u001b[1;33m)\u001b[0m\u001b[1;33m\u001b[0m\u001b[1;33m\u001b[0m\u001b[0m\n\u001b[0;32m    538\u001b[0m \u001b[1;33m\u001b[0m\u001b[0m\n\u001b[1;32m--> 539\u001b[1;33m             \u001b[0mdata\u001b[0m \u001b[1;33m=\u001b[0m \u001b[0mself\u001b[0m\u001b[1;33m.\u001b[0m\u001b[0mget_sheet_data\u001b[0m\u001b[1;33m(\u001b[0m\u001b[0msheet\u001b[0m\u001b[1;33m,\u001b[0m \u001b[0mconvert_float\u001b[0m\u001b[1;33m)\u001b[0m\u001b[1;33m\u001b[0m\u001b[1;33m\u001b[0m\u001b[0m\n\u001b[0m\u001b[0;32m    540\u001b[0m             \u001b[1;32mif\u001b[0m \u001b[0mhasattr\u001b[0m\u001b[1;33m(\u001b[0m\u001b[0msheet\u001b[0m\u001b[1;33m,\u001b[0m \u001b[1;34m\"close\"\u001b[0m\u001b[1;33m)\u001b[0m\u001b[1;33m:\u001b[0m\u001b[1;33m\u001b[0m\u001b[1;33m\u001b[0m\u001b[0m\n\u001b[0;32m    541\u001b[0m                 \u001b[1;31m# pyxlsb opens two TemporaryFiles\u001b[0m\u001b[1;33m\u001b[0m\u001b[1;33m\u001b[0m\u001b[0m\n",
      "\u001b[1;32m~\\Anaconda3\\lib\\site-packages\\pandas\\io\\excel\\_openpyxl.py\u001b[0m in \u001b[0;36mget_sheet_data\u001b[1;34m(self, sheet, convert_float)\u001b[0m\n\u001b[0;32m    570\u001b[0m         \u001b[0mdata\u001b[0m\u001b[1;33m:\u001b[0m \u001b[0mlist\u001b[0m\u001b[1;33m[\u001b[0m\u001b[0mlist\u001b[0m\u001b[1;33m[\u001b[0m\u001b[0mScalar\u001b[0m\u001b[1;33m]\u001b[0m\u001b[1;33m]\u001b[0m \u001b[1;33m=\u001b[0m \u001b[1;33m[\u001b[0m\u001b[1;33m]\u001b[0m\u001b[1;33m\u001b[0m\u001b[1;33m\u001b[0m\u001b[0m\n\u001b[0;32m    571\u001b[0m         \u001b[0mlast_row_with_data\u001b[0m \u001b[1;33m=\u001b[0m \u001b[1;33m-\u001b[0m\u001b[1;36m1\u001b[0m\u001b[1;33m\u001b[0m\u001b[1;33m\u001b[0m\u001b[0m\n\u001b[1;32m--> 572\u001b[1;33m         \u001b[1;32mfor\u001b[0m \u001b[0mrow_number\u001b[0m\u001b[1;33m,\u001b[0m \u001b[0mrow\u001b[0m \u001b[1;32min\u001b[0m \u001b[0menumerate\u001b[0m\u001b[1;33m(\u001b[0m\u001b[0msheet\u001b[0m\u001b[1;33m.\u001b[0m\u001b[0mrows\u001b[0m\u001b[1;33m)\u001b[0m\u001b[1;33m:\u001b[0m\u001b[1;33m\u001b[0m\u001b[1;33m\u001b[0m\u001b[0m\n\u001b[0m\u001b[0;32m    573\u001b[0m             \u001b[0mconverted_row\u001b[0m \u001b[1;33m=\u001b[0m \u001b[1;33m[\u001b[0m\u001b[0mself\u001b[0m\u001b[1;33m.\u001b[0m\u001b[0m_convert_cell\u001b[0m\u001b[1;33m(\u001b[0m\u001b[0mcell\u001b[0m\u001b[1;33m,\u001b[0m \u001b[0mconvert_float\u001b[0m\u001b[1;33m)\u001b[0m \u001b[1;32mfor\u001b[0m \u001b[0mcell\u001b[0m \u001b[1;32min\u001b[0m \u001b[0mrow\u001b[0m\u001b[1;33m]\u001b[0m\u001b[1;33m\u001b[0m\u001b[1;33m\u001b[0m\u001b[0m\n\u001b[0;32m    574\u001b[0m             \u001b[1;32mwhile\u001b[0m \u001b[0mconverted_row\u001b[0m \u001b[1;32mand\u001b[0m \u001b[0mconverted_row\u001b[0m\u001b[1;33m[\u001b[0m\u001b[1;33m-\u001b[0m\u001b[1;36m1\u001b[0m\u001b[1;33m]\u001b[0m \u001b[1;33m==\u001b[0m \u001b[1;34m\"\"\u001b[0m\u001b[1;33m:\u001b[0m\u001b[1;33m\u001b[0m\u001b[1;33m\u001b[0m\u001b[0m\n",
      "\u001b[1;32m~\\Anaconda3\\lib\\site-packages\\openpyxl\\worksheet\\_read_only.py\u001b[0m in \u001b[0;36m_cells_by_row\u001b[1;34m(self, min_col, min_row, max_col, max_row, values_only)\u001b[0m\n\u001b[0;32m     77\u001b[0m                                  \u001b[0mdata_only\u001b[0m\u001b[1;33m=\u001b[0m\u001b[0mself\u001b[0m\u001b[1;33m.\u001b[0m\u001b[0mparent\u001b[0m\u001b[1;33m.\u001b[0m\u001b[0mdata_only\u001b[0m\u001b[1;33m,\u001b[0m \u001b[0mepoch\u001b[0m\u001b[1;33m=\u001b[0m\u001b[0mself\u001b[0m\u001b[1;33m.\u001b[0m\u001b[0mparent\u001b[0m\u001b[1;33m.\u001b[0m\u001b[0mepoch\u001b[0m\u001b[1;33m,\u001b[0m\u001b[1;33m\u001b[0m\u001b[1;33m\u001b[0m\u001b[0m\n\u001b[0;32m     78\u001b[0m                                  date_formats=self.parent._date_formats)\n\u001b[1;32m---> 79\u001b[1;33m         \u001b[1;32mfor\u001b[0m \u001b[0midx\u001b[0m\u001b[1;33m,\u001b[0m \u001b[0mrow\u001b[0m \u001b[1;32min\u001b[0m \u001b[0mparser\u001b[0m\u001b[1;33m.\u001b[0m\u001b[0mparse\u001b[0m\u001b[1;33m(\u001b[0m\u001b[1;33m)\u001b[0m\u001b[1;33m:\u001b[0m\u001b[1;33m\u001b[0m\u001b[1;33m\u001b[0m\u001b[0m\n\u001b[0m\u001b[0;32m     80\u001b[0m             \u001b[1;32mif\u001b[0m \u001b[0mmax_row\u001b[0m \u001b[1;32mis\u001b[0m \u001b[1;32mnot\u001b[0m \u001b[1;32mNone\u001b[0m \u001b[1;32mand\u001b[0m \u001b[0midx\u001b[0m \u001b[1;33m>\u001b[0m \u001b[0mmax_row\u001b[0m\u001b[1;33m:\u001b[0m\u001b[1;33m\u001b[0m\u001b[1;33m\u001b[0m\u001b[0m\n\u001b[0;32m     81\u001b[0m                 \u001b[1;32mbreak\u001b[0m\u001b[1;33m\u001b[0m\u001b[1;33m\u001b[0m\u001b[0m\n",
      "\u001b[1;32m~\\Anaconda3\\lib\\site-packages\\openpyxl\\worksheet\\_reader.py\u001b[0m in \u001b[0;36mparse\u001b[1;34m(self)\u001b[0m\n\u001b[0;32m    142\u001b[0m         \u001b[0mit\u001b[0m \u001b[1;33m=\u001b[0m \u001b[0miterparse\u001b[0m\u001b[1;33m(\u001b[0m\u001b[0mself\u001b[0m\u001b[1;33m.\u001b[0m\u001b[0msource\u001b[0m\u001b[1;33m)\u001b[0m \u001b[1;31m# add a finaliser to close the source when this becomes possible\u001b[0m\u001b[1;33m\u001b[0m\u001b[1;33m\u001b[0m\u001b[0m\n\u001b[0;32m    143\u001b[0m \u001b[1;33m\u001b[0m\u001b[0m\n\u001b[1;32m--> 144\u001b[1;33m         \u001b[1;32mfor\u001b[0m \u001b[0m_\u001b[0m\u001b[1;33m,\u001b[0m \u001b[0melement\u001b[0m \u001b[1;32min\u001b[0m \u001b[0mit\u001b[0m\u001b[1;33m:\u001b[0m\u001b[1;33m\u001b[0m\u001b[1;33m\u001b[0m\u001b[0m\n\u001b[0m\u001b[0;32m    145\u001b[0m             \u001b[0mtag_name\u001b[0m \u001b[1;33m=\u001b[0m \u001b[0melement\u001b[0m\u001b[1;33m.\u001b[0m\u001b[0mtag\u001b[0m\u001b[1;33m\u001b[0m\u001b[1;33m\u001b[0m\u001b[0m\n\u001b[0;32m    146\u001b[0m             \u001b[1;32mif\u001b[0m \u001b[0mtag_name\u001b[0m \u001b[1;32min\u001b[0m \u001b[0mdispatcher\u001b[0m\u001b[1;33m:\u001b[0m\u001b[1;33m\u001b[0m\u001b[1;33m\u001b[0m\u001b[0m\n",
      "\u001b[1;32m~\\Anaconda3\\lib\\xml\\etree\\ElementTree.py\u001b[0m in \u001b[0;36miterator\u001b[1;34m()\u001b[0m\n\u001b[0;32m   1254\u001b[0m                 \u001b[1;32myield\u001b[0m \u001b[1;32mfrom\u001b[0m \u001b[0mpullparser\u001b[0m\u001b[1;33m.\u001b[0m\u001b[0mread_events\u001b[0m\u001b[1;33m(\u001b[0m\u001b[1;33m)\u001b[0m\u001b[1;33m\u001b[0m\u001b[1;33m\u001b[0m\u001b[0m\n\u001b[0;32m   1255\u001b[0m                 \u001b[1;31m# load event buffer\u001b[0m\u001b[1;33m\u001b[0m\u001b[1;33m\u001b[0m\u001b[0m\n\u001b[1;32m-> 1256\u001b[1;33m                 \u001b[0mdata\u001b[0m \u001b[1;33m=\u001b[0m \u001b[0msource\u001b[0m\u001b[1;33m.\u001b[0m\u001b[0mread\u001b[0m\u001b[1;33m(\u001b[0m\u001b[1;36m16\u001b[0m \u001b[1;33m*\u001b[0m \u001b[1;36m1024\u001b[0m\u001b[1;33m)\u001b[0m\u001b[1;33m\u001b[0m\u001b[1;33m\u001b[0m\u001b[0m\n\u001b[0m\u001b[0;32m   1257\u001b[0m                 \u001b[1;32mif\u001b[0m \u001b[1;32mnot\u001b[0m \u001b[0mdata\u001b[0m\u001b[1;33m:\u001b[0m\u001b[1;33m\u001b[0m\u001b[1;33m\u001b[0m\u001b[0m\n\u001b[0;32m   1258\u001b[0m                     \u001b[1;32mbreak\u001b[0m\u001b[1;33m\u001b[0m\u001b[1;33m\u001b[0m\u001b[0m\n",
      "\u001b[1;32m~\\Anaconda3\\lib\\zipfile.py\u001b[0m in \u001b[0;36mread\u001b[1;34m(self, n)\u001b[0m\n\u001b[0;32m    920\u001b[0m         \u001b[0mself\u001b[0m\u001b[1;33m.\u001b[0m\u001b[0m_offset\u001b[0m \u001b[1;33m=\u001b[0m \u001b[1;36m0\u001b[0m\u001b[1;33m\u001b[0m\u001b[1;33m\u001b[0m\u001b[0m\n\u001b[0;32m    921\u001b[0m         \u001b[1;32mwhile\u001b[0m \u001b[0mn\u001b[0m \u001b[1;33m>\u001b[0m \u001b[1;36m0\u001b[0m \u001b[1;32mand\u001b[0m \u001b[1;32mnot\u001b[0m \u001b[0mself\u001b[0m\u001b[1;33m.\u001b[0m\u001b[0m_eof\u001b[0m\u001b[1;33m:\u001b[0m\u001b[1;33m\u001b[0m\u001b[1;33m\u001b[0m\u001b[0m\n\u001b[1;32m--> 922\u001b[1;33m             \u001b[0mdata\u001b[0m \u001b[1;33m=\u001b[0m \u001b[0mself\u001b[0m\u001b[1;33m.\u001b[0m\u001b[0m_read1\u001b[0m\u001b[1;33m(\u001b[0m\u001b[0mn\u001b[0m\u001b[1;33m)\u001b[0m\u001b[1;33m\u001b[0m\u001b[1;33m\u001b[0m\u001b[0m\n\u001b[0m\u001b[0;32m    923\u001b[0m             \u001b[1;32mif\u001b[0m \u001b[0mn\u001b[0m \u001b[1;33m<\u001b[0m \u001b[0mlen\u001b[0m\u001b[1;33m(\u001b[0m\u001b[0mdata\u001b[0m\u001b[1;33m)\u001b[0m\u001b[1;33m:\u001b[0m\u001b[1;33m\u001b[0m\u001b[1;33m\u001b[0m\u001b[0m\n\u001b[0;32m    924\u001b[0m                 \u001b[0mself\u001b[0m\u001b[1;33m.\u001b[0m\u001b[0m_readbuffer\u001b[0m \u001b[1;33m=\u001b[0m \u001b[0mdata\u001b[0m\u001b[1;33m\u001b[0m\u001b[1;33m\u001b[0m\u001b[0m\n",
      "\u001b[1;32m~\\Anaconda3\\lib\\zipfile.py\u001b[0m in \u001b[0;36m_read1\u001b[1;34m(self, n)\u001b[0m\n\u001b[0;32m    996\u001b[0m         \u001b[1;32melif\u001b[0m \u001b[0mself\u001b[0m\u001b[1;33m.\u001b[0m\u001b[0m_compress_type\u001b[0m \u001b[1;33m==\u001b[0m \u001b[0mZIP_DEFLATED\u001b[0m\u001b[1;33m:\u001b[0m\u001b[1;33m\u001b[0m\u001b[1;33m\u001b[0m\u001b[0m\n\u001b[0;32m    997\u001b[0m             \u001b[0mn\u001b[0m \u001b[1;33m=\u001b[0m \u001b[0mmax\u001b[0m\u001b[1;33m(\u001b[0m\u001b[0mn\u001b[0m\u001b[1;33m,\u001b[0m \u001b[0mself\u001b[0m\u001b[1;33m.\u001b[0m\u001b[0mMIN_READ_SIZE\u001b[0m\u001b[1;33m)\u001b[0m\u001b[1;33m\u001b[0m\u001b[1;33m\u001b[0m\u001b[0m\n\u001b[1;32m--> 998\u001b[1;33m             \u001b[0mdata\u001b[0m \u001b[1;33m=\u001b[0m \u001b[0mself\u001b[0m\u001b[1;33m.\u001b[0m\u001b[0m_decompressor\u001b[0m\u001b[1;33m.\u001b[0m\u001b[0mdecompress\u001b[0m\u001b[1;33m(\u001b[0m\u001b[0mdata\u001b[0m\u001b[1;33m,\u001b[0m \u001b[0mn\u001b[0m\u001b[1;33m)\u001b[0m\u001b[1;33m\u001b[0m\u001b[1;33m\u001b[0m\u001b[0m\n\u001b[0m\u001b[0;32m    999\u001b[0m             self._eof = (self._decompressor.eof or\n\u001b[0;32m   1000\u001b[0m                          \u001b[0mself\u001b[0m\u001b[1;33m.\u001b[0m\u001b[0m_compress_left\u001b[0m \u001b[1;33m<=\u001b[0m \u001b[1;36m0\u001b[0m \u001b[1;32mand\u001b[0m\u001b[1;33m\u001b[0m\u001b[1;33m\u001b[0m\u001b[0m\n",
      "\u001b[1;31mKeyboardInterrupt\u001b[0m: "
     ]
    }
   ],
   "source": [
    "# LIST STU SC SN ID ATT ATT.A0 ATT.A1 ATT.A2 ATT.A3 ATT.A4 ATT.A5 ATT.A6 ATT.A7 ATT.A8 ATT.A9 ATT.DT \n",
    "codes = pd.read_excel(r\"C:\\Users\\derek.castleman\\Desktop\\Codes.xlsx\")\n",
    "\n",
    "# LIST STU ID DIS DIS.CD? DIS.DT \n",
    "discipline = pd.read_excel(r\"C:\\Users\\derek.castleman\\Desktop\\Discipline.xlsx\")\n",
    "\n",
    "# LIST STU ADS DSP ADS.SC STU.ID ADS.DT ADS.CD DSP.DS DSP.DD\n",
    "suspension = pd.read_excel(r\"C:\\Users\\derek.castleman\\Desktop\\Suspensions.xlsx\")\n",
    "\n",
    "# LIST STU SC ID STU.NM GR TP\n",
    "gpa = pd.read_excel(r\"C:\\Users\\derek.castleman\\Desktop\\GPA.xlsx\")\n",
    "\n",
    "# LIST STU ID FEE FEE.AM FEE.DT FEE.PD FEE.CD?\n",
    "fees = pd.read_excel(r\"C:\\Users\\derek.castleman\\Desktop\\Fees.xlsx\")\n",
    "\n",
    "# LIST STU GBU GBK GBR STU.SC STU.ID STU.NM STU.GR GBK.PD GBK.NM GBR.CD GBU.CMK GBU.TG GBU.CSC\n",
    "gradebook = pd.read_excel(r\"C:\\Users\\derek.castleman\\Desktop\\Gradebook.xlsx\")\n",
    "\n",
    "# LIST STU ID ACT ACT.CD? ACT.DT ACT.HR \n",
    "hours = pd.read_excel(r\"C:\\Users\\derek.castleman\\Desktop\\Hours.xlsx\")"
   ]
  },
  {
   "cell_type": "markdown",
   "id": "c562a657",
   "metadata": {},
   "source": [
    "## Attendance\n",
    "\n",
    "Attendance will be looked at in three different ways. First, the number of periods that a student was tardy to class will be summed up. I will follow this by calculating the number of periods that each student missed due to an unexcused absence. It will conclude by calculating the total periods that a student missed whether or not they were excused or unexcused."
   ]
  },
  {
   "cell_type": "code",
   "execution_count": null,
   "id": "560b1dca",
   "metadata": {},
   "outputs": [],
   "source": [
    "codes"
   ]
  },
  {
   "cell_type": "code",
   "execution_count": null,
   "id": "629dfa52",
   "metadata": {},
   "outputs": [],
   "source": [
    "codes['Date']= pd.to_datetime(codes['Date'])\n",
    "codes"
   ]
  },
  {
   "cell_type": "code",
   "execution_count": null,
   "id": "dc050d75",
   "metadata": {},
   "outputs": [],
   "source": [
    "a = input('What is the start date you are interested in (mm/dd/yyyy):          ')\n",
    "a"
   ]
  },
  {
   "cell_type": "code",
   "execution_count": null,
   "id": "d4cecba8",
   "metadata": {},
   "outputs": [],
   "source": [
    "b = input('What is the end date you are interested in (mm/dd/yyyy):          ')\n",
    "b"
   ]
  },
  {
   "cell_type": "code",
   "execution_count": null,
   "id": "aa43b29b",
   "metadata": {},
   "outputs": [],
   "source": [
    "codes = codes[(codes['Date'] >= a) & (codes['Date'] <= b)]\n",
    "codes"
   ]
  },
  {
   "cell_type": "code",
   "execution_count": null,
   "id": "324aee8f",
   "metadata": {},
   "outputs": [],
   "source": [
    "codes = codes.melt(['School','Student#', 'Student ID', 'Date'], var_name='Period', value_name='Code')\n",
    "codes"
   ]
  },
  {
   "cell_type": "code",
   "execution_count": null,
   "id": "78c3d3dd",
   "metadata": {},
   "outputs": [],
   "source": [
    "totalabsent = codes[(codes['Code'] == 'A') | (codes['Code'] == 'Q') | \n",
    "                     (codes['Code'] == 'S') | (codes['Code'] == 'U') | (codes['Code'] == 'K') |\n",
    "                      (codes['Code'] == 'I') | (codes['Code'] == 'M') | (codes['Code'] == 'X')]\n",
    "totalabsent"
   ]
  },
  {
   "cell_type": "code",
   "execution_count": null,
   "id": "c20f05bc",
   "metadata": {},
   "outputs": [],
   "source": [
    "totalabsent['Periods Absent'] = 1\n",
    "totalabsent"
   ]
  },
  {
   "cell_type": "code",
   "execution_count": null,
   "id": "b756cf87",
   "metadata": {},
   "outputs": [],
   "source": [
    "totalabsent = totalabsent.groupby(by=['Student ID'])['Periods Absent'].sum().reset_index()\n",
    "totalabsent"
   ]
  },
  {
   "cell_type": "code",
   "execution_count": null,
   "id": "1b4f3410",
   "metadata": {},
   "outputs": [],
   "source": [
    "unexcused = codes[(codes['Code'] == 'A') | (codes['Code'] == 'Q') | \n",
    "                     (codes['Code'] == 'S') | (codes['Code'] == 'U')]\n",
    "unexcused"
   ]
  },
  {
   "cell_type": "code",
   "execution_count": null,
   "id": "c10d08ce",
   "metadata": {},
   "outputs": [],
   "source": [
    "unexcused['Unexcused Absent'] = 1\n",
    "unexcused"
   ]
  },
  {
   "cell_type": "code",
   "execution_count": null,
   "id": "0161904c",
   "metadata": {},
   "outputs": [],
   "source": [
    "unexcused = unexcused.groupby(by=['Student ID'])['Unexcused Absent'].sum().reset_index()\n",
    "unexcused"
   ]
  },
  {
   "cell_type": "code",
   "execution_count": null,
   "id": "8132121a",
   "metadata": {},
   "outputs": [],
   "source": [
    "totaltardy = codes[(codes['Code'] == 'C') | (codes['Code'] == 'D') | \n",
    "                     (codes['Code'] == 'T') | (codes['Code'] == 'Y') | (codes['Code'] == 'Z')]\n",
    "totaltardy"
   ]
  },
  {
   "cell_type": "code",
   "execution_count": null,
   "id": "72eb7614",
   "metadata": {},
   "outputs": [],
   "source": [
    "totaltardy['Periods Tardy'] = 1\n",
    "totaltardy"
   ]
  },
  {
   "cell_type": "code",
   "execution_count": null,
   "id": "9fc95e15",
   "metadata": {},
   "outputs": [],
   "source": [
    "totaltardy = totaltardy.groupby(by=['Student ID'])['Periods Tardy'].sum().reset_index()\n",
    "totaltardy"
   ]
  },
  {
   "cell_type": "code",
   "execution_count": null,
   "id": "c559bc61",
   "metadata": {},
   "outputs": [],
   "source": [
    "attendance = pd.merge(totalabsent, unexcused, how='outer', on='Student ID')\n",
    "attendance"
   ]
  },
  {
   "cell_type": "code",
   "execution_count": null,
   "id": "b1e1ab0f",
   "metadata": {},
   "outputs": [],
   "source": [
    "attendance = pd.merge(attendance, totaltardy, how='outer', on='Student ID')\n",
    "attendance"
   ]
  },
  {
   "cell_type": "markdown",
   "id": "8f5a8041",
   "metadata": {},
   "source": [
    "## Discipline\n",
    "\n",
    "A date will be input that will be selected for when discipline should be looked at beyond. A number of one will be assigned to each discipline log and then it will be summed for each of the students. The same thing will be done with the suspensions for a student."
   ]
  },
  {
   "cell_type": "code",
   "execution_count": null,
   "id": "579122b8",
   "metadata": {},
   "outputs": [],
   "source": [
    "discipline"
   ]
  },
  {
   "cell_type": "code",
   "execution_count": null,
   "id": "a0a34c3b",
   "metadata": {},
   "outputs": [],
   "source": [
    "discipline['Date']= pd.to_datetime(discipline['Date']) # Changing to proper date format\n",
    "discipline"
   ]
  },
  {
   "cell_type": "code",
   "execution_count": null,
   "id": "cd4bd8dc",
   "metadata": {},
   "outputs": [],
   "source": [
    "discipline = discipline[(discipline['Date'] >= a) & (discipline['Date'] <= b)]\n",
    "discipline"
   ]
  },
  {
   "cell_type": "code",
   "execution_count": null,
   "id": "6f78b1f6",
   "metadata": {},
   "outputs": [],
   "source": [
    "discipline['Discipline Logs'] = 1 # Giving a value of one for each discipline\n",
    "discipline"
   ]
  },
  {
   "cell_type": "code",
   "execution_count": null,
   "id": "07f5d695",
   "metadata": {},
   "outputs": [],
   "source": [
    "# Summing up the discipline for each student\n",
    "discipline = discipline.groupby(by=['Student ID'])['Discipline Logs'].sum().reset_index()\n",
    "discipline"
   ]
  },
  {
   "cell_type": "code",
   "execution_count": null,
   "id": "1aecd511",
   "metadata": {},
   "outputs": [],
   "source": [
    "suspension"
   ]
  },
  {
   "cell_type": "code",
   "execution_count": null,
   "id": "6e3dadfc",
   "metadata": {},
   "outputs": [],
   "source": [
    "suspension = suspension[(suspension['Disposition'] == 'SUS-13') | (suspension['Disposition'] == '04')] # Selecting suspensions\n",
    "suspension"
   ]
  },
  {
   "cell_type": "code",
   "execution_count": null,
   "id": "2525f5f5",
   "metadata": {},
   "outputs": [],
   "source": [
    "# Changing date into proper format\n",
    "suspension['Disposition date']= pd.to_datetime(suspension['Disposition date'])\n",
    "suspension"
   ]
  },
  {
   "cell_type": "code",
   "execution_count": null,
   "id": "26bd7df3",
   "metadata": {},
   "outputs": [],
   "source": [
    "# Selecting suspensions beyond the start \n",
    "suspension = suspension[(suspension['Disposition date'] >= a) & (suspension['Disposition date'] <= b)]\n",
    "suspension"
   ]
  },
  {
   "cell_type": "code",
   "execution_count": null,
   "id": "24aeec27",
   "metadata": {},
   "outputs": [],
   "source": [
    "suspension['Suspensions'] = 1 # Giving a value of 1 for each suspension\n",
    "suspension"
   ]
  },
  {
   "cell_type": "code",
   "execution_count": null,
   "id": "92a4a8f3",
   "metadata": {},
   "outputs": [],
   "source": [
    "# Summing up the suspensions for each student\n",
    "suspension = suspension.groupby(by=['Student ID'])['Suspensions'].sum().reset_index()\n",
    "suspension"
   ]
  },
  {
   "cell_type": "code",
   "execution_count": null,
   "id": "af1fde6d",
   "metadata": {},
   "outputs": [],
   "source": [
    "# Merging the two behavior columns together\n",
    "behavior = pd.merge(discipline, suspension, how='outer', on='Student ID')\n",
    "behavior"
   ]
  },
  {
   "cell_type": "code",
   "execution_count": null,
   "id": "a317f63d",
   "metadata": {},
   "outputs": [],
   "source": [
    "behavior = behavior.fillna(0) # Filling in the missing values with zero\n",
    "behavior"
   ]
  },
  {
   "cell_type": "markdown",
   "id": "f0a7ed97",
   "metadata": {},
   "source": [
    "## Academics\n",
    "\n",
    "The total academic GPA for students will be added to the attendance data along with any outstanding fees that they might have. The outstanding fees are calculated by the total they have been charged with the total that has been paid minused from it. The grades for the current term will be selected and any grade under a C- will be chosen with a sum for each student for how many Ds and Fs they have given."
   ]
  },
  {
   "cell_type": "code",
   "execution_count": null,
   "id": "6fd952d4",
   "metadata": {},
   "outputs": [],
   "source": [
    "gpa"
   ]
  },
  {
   "cell_type": "code",
   "execution_count": null,
   "id": "a4a49c2d",
   "metadata": {},
   "outputs": [],
   "source": [
    "# Adds the total GPA of each student with their attendance data\n",
    "merge_one = pd.merge(gpa, attendance, how='left', on='Student ID')\n",
    "merge_one"
   ]
  },
  {
   "cell_type": "code",
   "execution_count": null,
   "id": "b3cbd737",
   "metadata": {},
   "outputs": [],
   "source": [
    "final = pd.merge(merge_one, behavior, how='left', on='Student ID')\n",
    "final"
   ]
  },
  {
   "cell_type": "code",
   "execution_count": null,
   "id": "e149fb9f",
   "metadata": {},
   "outputs": [],
   "source": [
    "final = final.fillna(0)\n",
    "final"
   ]
  },
  {
   "cell_type": "code",
   "execution_count": null,
   "id": "ddff150a",
   "metadata": {},
   "outputs": [],
   "source": [
    "gradebook"
   ]
  },
  {
   "cell_type": "code",
   "execution_count": null,
   "id": "253507d6",
   "metadata": {},
   "outputs": [],
   "source": [
    "z = input('Input term of interest (1, 2 etc.)        ') # Current term for grades is unput\n",
    "z"
   ]
  },
  {
   "cell_type": "code",
   "execution_count": null,
   "id": "ff8b10d4",
   "metadata": {},
   "outputs": [],
   "source": [
    "gradebook = gradebook[gradebook['Term'] == z] # Current term is selected from gradebook\n",
    "gradebook"
   ]
  },
  {
   "cell_type": "code",
   "execution_count": null,
   "id": "9e0c2802",
   "metadata": {},
   "outputs": [],
   "source": [
    "# Failing grades are chosen\n",
    "failing = gradebook[(gradebook['OverallMark'] == 'D+') | (gradebook['OverallMark'] == 'D') | \n",
    "                    (gradebook['OverallMark'] == 'D-') | (gradebook['OverallMark'] == 'F')]\n",
    "failing"
   ]
  },
  {
   "cell_type": "code",
   "execution_count": null,
   "id": "19df5976",
   "metadata": {},
   "outputs": [],
   "source": [
    "# A value of 1 is given to each course that has been filtered\n",
    "failing['D/F'] = 1\n",
    "failing"
   ]
  },
  {
   "cell_type": "code",
   "execution_count": null,
   "id": "f310de8e",
   "metadata": {},
   "outputs": [],
   "source": [
    "# Total number is summed up\n",
    "failing = failing.groupby(by=['Student ID'])['D/F'].sum().reset_index()\n",
    "failing"
   ]
  },
  {
   "cell_type": "code",
   "execution_count": null,
   "id": "94b02643",
   "metadata": {},
   "outputs": [],
   "source": [
    "final"
   ]
  },
  {
   "cell_type": "code",
   "execution_count": null,
   "id": "01170dc5",
   "metadata": {},
   "outputs": [],
   "source": [
    "# Failing grades are added to all other merges\n",
    "final = pd.merge(final, failing, on='Student ID', how='left')\n",
    "final"
   ]
  },
  {
   "cell_type": "code",
   "execution_count": null,
   "id": "4000fa59",
   "metadata": {},
   "outputs": [],
   "source": [
    "final = final.rename(columns={'D/F': \"Q\" + z + \" D/F\"})\n",
    "final"
   ]
  },
  {
   "cell_type": "markdown",
   "id": "dec8b07d",
   "metadata": {},
   "source": [
    "## Fees and Community Service\n",
    "\n",
    "The fees will be calculated for students by subtracting the amount paid from the amount charged. The community service hours will then be calculated by filtering over the date range and then summing the column for the hours. Everything will then be added to the dataframe to complete it."
   ]
  },
  {
   "cell_type": "code",
   "execution_count": null,
   "id": "bf4a96d0",
   "metadata": {
    "scrolled": true
   },
   "outputs": [],
   "source": [
    "fees"
   ]
  },
  {
   "cell_type": "code",
   "execution_count": null,
   "id": "912cc11b",
   "metadata": {
    "scrolled": true
   },
   "outputs": [],
   "source": [
    "# Debts are calculated by subtracting amount paid from amount charged\n",
    "fees['Fees/Debts'] = fees['Amount Chgd'] - fees['Amount Pd']\n",
    "fees"
   ]
  },
  {
   "cell_type": "code",
   "execution_count": null,
   "id": "2a557fa8",
   "metadata": {},
   "outputs": [],
   "source": [
    "fees = fees[['Student ID', 'Fees/Debts']]\n",
    "fees"
   ]
  },
  {
   "cell_type": "code",
   "execution_count": null,
   "id": "e0801930",
   "metadata": {},
   "outputs": [],
   "source": [
    "# Fees are added to the end\n",
    "final = pd.merge(final, fees, on='Student ID', how='left')\n",
    "final"
   ]
  },
  {
   "cell_type": "code",
   "execution_count": null,
   "id": "a5a7caf5",
   "metadata": {},
   "outputs": [],
   "source": [
    "hours"
   ]
  },
  {
   "cell_type": "code",
   "execution_count": null,
   "id": "cbf72983",
   "metadata": {},
   "outputs": [],
   "source": [
    "hours = hours[hours['Description_ACT_CD'] == 'Community Service']\n",
    "hours"
   ]
  },
  {
   "cell_type": "code",
   "execution_count": null,
   "id": "ac093762",
   "metadata": {},
   "outputs": [],
   "source": [
    "hours['Date']= pd.to_datetime(hours['Date']) # Changes absent date to datetime\n",
    "hours"
   ]
  },
  {
   "cell_type": "code",
   "execution_count": null,
   "id": "ac36cdd0",
   "metadata": {},
   "outputs": [],
   "source": [
    "hours = hours[(hours['Date'] >= a) & (hours['Date'] <= b)]\n",
    "hours"
   ]
  },
  {
   "cell_type": "code",
   "execution_count": null,
   "id": "75965989",
   "metadata": {},
   "outputs": [],
   "source": [
    "hours = hours.groupby(by=['Student ID'])['Hours'].sum().reset_index()\n",
    "hours"
   ]
  },
  {
   "cell_type": "code",
   "execution_count": null,
   "id": "8265e404",
   "metadata": {},
   "outputs": [],
   "source": [
    "final = pd.merge(final, hours, on='Student ID', how='left')\n",
    "final"
   ]
  },
  {
   "cell_type": "code",
   "execution_count": null,
   "id": "a3c54f8d",
   "metadata": {},
   "outputs": [],
   "source": [
    "# Any remaining nan are filled in with 0\n",
    "final = final.fillna(0)\n",
    "final"
   ]
  },
  {
   "cell_type": "code",
   "execution_count": null,
   "id": "a80fc109",
   "metadata": {},
   "outputs": [],
   "source": [
    "import base64\n",
    "from IPython.display import HTML\n",
    "\n",
    "def create_download_link( df, title = \"Attendance and Discipline\", filename = \"Attendance and Discipline\"):\n",
    "    csv = df.to_csv(index=False)\n",
    "    b64 = base64.b64encode(csv.encode())\n",
    "    payload = b64.decode()\n",
    "    html = '<a download=\"{filename}\" href=\"data:text/csv;base64,{payload}\" target=\"_blank\">{title}</a>'\n",
    "    html = html.format(payload=payload,title=title,filename=filename)\n",
    "    return HTML(html)\n",
    "\n",
    "create_download_link(final)"
   ]
  },
  {
   "cell_type": "code",
   "execution_count": null,
   "id": "cd017fe2",
   "metadata": {},
   "outputs": [],
   "source": []
  }
 ],
 "metadata": {
  "kernelspec": {
   "display_name": "Python 3 (ipykernel)",
   "language": "python",
   "name": "python3"
  },
  "language_info": {
   "codemirror_mode": {
    "name": "ipython",
    "version": 3
   },
   "file_extension": ".py",
   "mimetype": "text/x-python",
   "name": "python",
   "nbconvert_exporter": "python",
   "pygments_lexer": "ipython3",
   "version": "3.9.7"
  }
 },
 "nbformat": 4,
 "nbformat_minor": 5
}
