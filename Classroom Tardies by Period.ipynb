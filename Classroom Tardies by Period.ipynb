{
 "cells": [
  {
   "cell_type": "markdown",
   "id": "381d6e99",
   "metadata": {},
   "source": [
    "# Classroom Tardies by Period\n",
    "\n",
    "In this Jupyter notebook the amount of times that students have been tardy to class (Class Code C in Aeries) will be calculated from an attendance code query. A final column will be generated with the total number of classroom tardies for a student."
   ]
  },
  {
   "cell_type": "code",
   "execution_count": null,
   "id": "538e142f",
   "metadata": {},
   "outputs": [],
   "source": [
    "import numpy as np\n",
    "import pandas as pd"
   ]
  },
  {
   "cell_type": "code",
   "execution_count": null,
   "id": "603980db",
   "metadata": {},
   "outputs": [],
   "source": [
    "# LIST STU SC SN ID NM GR ATT ATT.A0 ATT.A1 ATT.A2 ATT.A3 ATT.A4 ATT.A5 ATT.A6 ATT.A7 ATT.A8 ATT.A9 ATT.DT\n",
    "\n",
    "codes = pd.read_excel(r\"C:\\Users\\derek.castleman\\Desktop\\Class Tardies Codes.xlsx\")\n",
    "codes"
   ]
  },
  {
   "cell_type": "code",
   "execution_count": null,
   "id": "253ad78a",
   "metadata": {},
   "outputs": [],
   "source": [
    "codes['Date']= pd.to_datetime(codes['Date']) # Changes date to datetime\n",
    "codes"
   ]
  },
  {
   "cell_type": "code",
   "execution_count": null,
   "id": "cb7adc6d",
   "metadata": {},
   "outputs": [],
   "source": [
    "a = input('What is the start date you are interested in (mm/dd/yyyy):          ') #Input start date"
   ]
  },
  {
   "cell_type": "code",
   "execution_count": null,
   "id": "78d1e5f1",
   "metadata": {},
   "outputs": [],
   "source": [
    "a = pd.to_datetime(a) # Change start date to datetime\n",
    "a"
   ]
  },
  {
   "cell_type": "code",
   "execution_count": null,
   "id": "276c4413",
   "metadata": {},
   "outputs": [],
   "source": [
    "b = input('What is the end date you are interested in (mm/dd/yyyy):          ') #Input end date"
   ]
  },
  {
   "cell_type": "code",
   "execution_count": null,
   "id": "d9ef6915",
   "metadata": {},
   "outputs": [],
   "source": [
    "b = pd.to_datetime(b) # Turn end date to date time\n",
    "b"
   ]
  },
  {
   "cell_type": "code",
   "execution_count": null,
   "id": "de6fd9d2",
   "metadata": {},
   "outputs": [],
   "source": [
    "# Filters date range from All Day code table\n",
    "dates_interested = codes[(codes['Date'] >=a) & (codes['Date'] <=b)]\n",
    "dates_interested"
   ]
  },
  {
   "cell_type": "code",
   "execution_count": null,
   "id": "a552f5a3",
   "metadata": {},
   "outputs": [],
   "source": [
    "# Replaces the Classroom tardy code (C) with a value of 1\n",
    "dates_interested = dates_interested.replace('C', 1)\n",
    "dates_interested"
   ]
  },
  {
   "cell_type": "code",
   "execution_count": null,
   "id": "d862c993",
   "metadata": {},
   "outputs": [],
   "source": [
    "# Forces each column into numeric creating nan out of other absent codes and only leaving the 1 for C\n",
    "dates_interested['Per0'] = pd.to_numeric(dates_interested['Per0'], errors='coerce')\n",
    "dates_interested['Per1'] = pd.to_numeric(dates_interested['Per1'], errors='coerce')\n",
    "dates_interested['Per2'] = pd.to_numeric(dates_interested['Per2'], errors='coerce')\n",
    "dates_interested['Per3'] = pd.to_numeric(dates_interested['Per3'], errors='coerce')\n",
    "dates_interested['Per4'] = pd.to_numeric(dates_interested['Per4'], errors='coerce')\n",
    "dates_interested['Per5'] = pd.to_numeric(dates_interested['Per5'], errors='coerce')\n",
    "dates_interested['Per6'] = pd.to_numeric(dates_interested['Per6'], errors='coerce')\n",
    "dates_interested['Per7'] = pd.to_numeric(dates_interested['Per7'], errors='coerce')\n",
    "dates_interested['Per8'] = pd.to_numeric(dates_interested['Per8'], errors='coerce')\n",
    "dates_interested['Per9'] = pd.to_numeric(dates_interested['Per9'], errors='coerce')\n",
    "dates_interested"
   ]
  },
  {
   "cell_type": "code",
   "execution_count": null,
   "id": "76c2d4c8",
   "metadata": {},
   "outputs": [],
   "source": [
    "# Sums up each period column\n",
    "students = dates_interested.groupby(by=['School' ,'Student ID', 'Student Name', 'Grade'])['Per0', 'Per1', 'Per2', 'Per3',\n",
    "                                                                                'Per4', 'Per5', 'Per6', 'Per7',\n",
    "                                                                                'Per8', 'Per9'].sum().reset_index()\n",
    "students"
   ]
  },
  {
   "cell_type": "code",
   "execution_count": null,
   "id": "c9be3e39",
   "metadata": {},
   "outputs": [],
   "source": [
    "# Creates a Total Tardies column by summing up all the periods\n",
    "students['Total Tardies'] = students['Per0'] + students['Per1'] + students['Per2'] + students['Per3'] + students['Per4'] + students['Per5'] + students['Per6'] + students['Per7'] + students['Per8'] + students['Per9']"
   ]
  },
  {
   "cell_type": "code",
   "execution_count": null,
   "id": "c4113f89",
   "metadata": {},
   "outputs": [],
   "source": [
    "students"
   ]
  },
  {
   "cell_type": "code",
   "execution_count": null,
   "id": "3d980537",
   "metadata": {},
   "outputs": [],
   "source": [
    "import base64\n",
    "from IPython.display import HTML\n",
    "\n",
    "def create_download_link( df, title = \"Classroom Tardies\", filename = \"Classroom Tardies\"):\n",
    "    csv = df.to_csv(index=False)\n",
    "    b64 = base64.b64encode(csv.encode())\n",
    "    payload = b64.decode()\n",
    "    html = '<a download=\"{filename}\" href=\"data:text/csv;base64,{payload}\" target=\"_blank\">{title}</a>'\n",
    "    html = html.format(payload=payload,title=title,filename=filename)\n",
    "    return HTML(html)\n",
    "\n",
    "create_download_link(students)"
   ]
  },
  {
   "cell_type": "code",
   "execution_count": null,
   "id": "a79b6ea4",
   "metadata": {},
   "outputs": [],
   "source": []
  }
 ],
 "metadata": {
  "kernelspec": {
   "display_name": "Python 3 (ipykernel)",
   "language": "python",
   "name": "python3"
  },
  "language_info": {
   "codemirror_mode": {
    "name": "ipython",
    "version": 3
   },
   "file_extension": ".py",
   "mimetype": "text/x-python",
   "name": "python",
   "nbconvert_exporter": "python",
   "pygments_lexer": "ipython3",
   "version": "3.9.7"
  }
 },
 "nbformat": 4,
 "nbformat_minor": 5
}
